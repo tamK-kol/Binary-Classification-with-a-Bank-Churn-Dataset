{
 "cells": [
  {
   "cell_type": "markdown",
   "id": "2e5fe5ff",
   "metadata": {
    "papermill": {
     "duration": 0.00776,
     "end_time": "2024-01-18T11:36:46.739930",
     "exception": false,
     "start_time": "2024-01-18T11:36:46.732170",
     "status": "completed"
    },
    "tags": []
   },
   "source": [
    "# Our task is to predict whether a customer continues with their account or closes it (e.g., churns)."
   ]
  },
  {
   "cell_type": "markdown",
   "id": "cdc9bba0",
   "metadata": {
    "papermill": {
     "duration": 0.006335,
     "end_time": "2024-01-18T11:36:46.753415",
     "exception": false,
     "start_time": "2024-01-18T11:36:46.747080",
     "status": "completed"
    },
    "tags": []
   },
   "source": [
    "# Importing necessary libraries"
   ]
  },
  {
   "cell_type": "code",
   "execution_count": 1,
   "id": "88e38184",
   "metadata": {
    "execution": {
     "iopub.execute_input": "2024-01-18T11:36:46.768093Z",
     "iopub.status.busy": "2024-01-18T11:36:46.767729Z",
     "iopub.status.idle": "2024-01-18T11:36:49.642463Z",
     "shell.execute_reply": "2024-01-18T11:36:49.641231Z"
    },
    "papermill": {
     "duration": 2.884981,
     "end_time": "2024-01-18T11:36:49.644841",
     "exception": false,
     "start_time": "2024-01-18T11:36:46.759860",
     "status": "completed"
    },
    "tags": []
   },
   "outputs": [],
   "source": [
    "import numpy as np\n",
    "import pandas as pd\n",
    "import lightgbm as lgb\n",
    "from sklearn.model_selection import train_test_split\n",
    "from sklearn.metrics import roc_auc_score\n",
    "import matplotlib.pyplot as plt\n",
    "from sklearn.model_selection import StratifiedKFold\n",
    "from sklearn.feature_extraction.text import TfidfVectorizer\n",
    "from sklearn.decomposition import TruncatedSVD\n",
    "import warnings\n",
    "warnings.filterwarnings(\"ignore\")"
   ]
  },
  {
   "cell_type": "markdown",
   "id": "d9aaa63d",
   "metadata": {
    "papermill": {
     "duration": 0.006237,
     "end_time": "2024-01-18T11:36:49.657631",
     "exception": false,
     "start_time": "2024-01-18T11:36:49.651394",
     "status": "completed"
    },
    "tags": []
   },
   "source": [
    "# The Parameters\n",
    " Setting random seed, number of folds for cross-validation, and number of estimators for LightGBM."
   ]
  },
  {
   "cell_type": "code",
   "execution_count": 2,
   "id": "84a1c1a2",
   "metadata": {
    "execution": {
     "iopub.execute_input": "2024-01-18T11:36:49.673116Z",
     "iopub.status.busy": "2024-01-18T11:36:49.672234Z",
     "iopub.status.idle": "2024-01-18T11:36:49.676461Z",
     "shell.execute_reply": "2024-01-18T11:36:49.675665Z"
    },
    "papermill": {
     "duration": 0.014252,
     "end_time": "2024-01-18T11:36:49.678419",
     "exception": false,
     "start_time": "2024-01-18T11:36:49.664167",
     "status": "completed"
    },
    "tags": []
   },
   "outputs": [],
   "source": [
    "RAND_VAL=42\n",
    "num_folds=5 ## Number of folds\n",
    "n_est=5000 ## Number of estimators"
   ]
  },
  {
   "cell_type": "markdown",
   "id": "09d2bff7",
   "metadata": {
    "papermill": {
     "duration": 0.006199,
     "end_time": "2024-01-18T11:36:49.691022",
     "exception": false,
     "start_time": "2024-01-18T11:36:49.684823",
     "status": "completed"
    },
    "tags": []
   },
   "source": [
    "# Read the data\n",
    "* Read the 'train.csv' file into a DataFrame using pandas\n",
    "* Display the first few rows of the DataFrame"
   ]
  },
  {
   "cell_type": "code",
   "execution_count": 3,
   "id": "b583905a",
   "metadata": {
    "execution": {
     "iopub.execute_input": "2024-01-18T11:36:49.705322Z",
     "iopub.status.busy": "2024-01-18T11:36:49.704769Z",
     "iopub.status.idle": "2024-01-18T11:36:50.139209Z",
     "shell.execute_reply": "2024-01-18T11:36:50.138045Z"
    },
    "papermill": {
     "duration": 0.444598,
     "end_time": "2024-01-18T11:36:50.141824",
     "exception": false,
     "start_time": "2024-01-18T11:36:49.697226",
     "status": "completed"
    },
    "tags": []
   },
   "outputs": [
    {
     "data": {
      "text/html": [
       "<div>\n",
       "<style scoped>\n",
       "    .dataframe tbody tr th:only-of-type {\n",
       "        vertical-align: middle;\n",
       "    }\n",
       "\n",
       "    .dataframe tbody tr th {\n",
       "        vertical-align: top;\n",
       "    }\n",
       "\n",
       "    .dataframe thead th {\n",
       "        text-align: right;\n",
       "    }\n",
       "</style>\n",
       "<table border=\"1\" class=\"dataframe\">\n",
       "  <thead>\n",
       "    <tr style=\"text-align: right;\">\n",
       "      <th></th>\n",
       "      <th>id</th>\n",
       "      <th>CustomerId</th>\n",
       "      <th>Surname</th>\n",
       "      <th>CreditScore</th>\n",
       "      <th>Geography</th>\n",
       "      <th>Gender</th>\n",
       "      <th>Age</th>\n",
       "      <th>Tenure</th>\n",
       "      <th>Balance</th>\n",
       "      <th>NumOfProducts</th>\n",
       "      <th>HasCrCard</th>\n",
       "      <th>IsActiveMember</th>\n",
       "      <th>EstimatedSalary</th>\n",
       "      <th>Exited</th>\n",
       "    </tr>\n",
       "  </thead>\n",
       "  <tbody>\n",
       "    <tr>\n",
       "      <th>0</th>\n",
       "      <td>0</td>\n",
       "      <td>15674932</td>\n",
       "      <td>Okwudilichukwu</td>\n",
       "      <td>668</td>\n",
       "      <td>France</td>\n",
       "      <td>Male</td>\n",
       "      <td>33.0</td>\n",
       "      <td>3</td>\n",
       "      <td>0.00</td>\n",
       "      <td>2</td>\n",
       "      <td>1.0</td>\n",
       "      <td>0.0</td>\n",
       "      <td>181449.97</td>\n",
       "      <td>0</td>\n",
       "    </tr>\n",
       "    <tr>\n",
       "      <th>1</th>\n",
       "      <td>1</td>\n",
       "      <td>15749177</td>\n",
       "      <td>Okwudiliolisa</td>\n",
       "      <td>627</td>\n",
       "      <td>France</td>\n",
       "      <td>Male</td>\n",
       "      <td>33.0</td>\n",
       "      <td>1</td>\n",
       "      <td>0.00</td>\n",
       "      <td>2</td>\n",
       "      <td>1.0</td>\n",
       "      <td>1.0</td>\n",
       "      <td>49503.50</td>\n",
       "      <td>0</td>\n",
       "    </tr>\n",
       "    <tr>\n",
       "      <th>2</th>\n",
       "      <td>2</td>\n",
       "      <td>15694510</td>\n",
       "      <td>Hsueh</td>\n",
       "      <td>678</td>\n",
       "      <td>France</td>\n",
       "      <td>Male</td>\n",
       "      <td>40.0</td>\n",
       "      <td>10</td>\n",
       "      <td>0.00</td>\n",
       "      <td>2</td>\n",
       "      <td>1.0</td>\n",
       "      <td>0.0</td>\n",
       "      <td>184866.69</td>\n",
       "      <td>0</td>\n",
       "    </tr>\n",
       "    <tr>\n",
       "      <th>3</th>\n",
       "      <td>3</td>\n",
       "      <td>15741417</td>\n",
       "      <td>Kao</td>\n",
       "      <td>581</td>\n",
       "      <td>France</td>\n",
       "      <td>Male</td>\n",
       "      <td>34.0</td>\n",
       "      <td>2</td>\n",
       "      <td>148882.54</td>\n",
       "      <td>1</td>\n",
       "      <td>1.0</td>\n",
       "      <td>1.0</td>\n",
       "      <td>84560.88</td>\n",
       "      <td>0</td>\n",
       "    </tr>\n",
       "    <tr>\n",
       "      <th>4</th>\n",
       "      <td>4</td>\n",
       "      <td>15766172</td>\n",
       "      <td>Chiemenam</td>\n",
       "      <td>716</td>\n",
       "      <td>Spain</td>\n",
       "      <td>Male</td>\n",
       "      <td>33.0</td>\n",
       "      <td>5</td>\n",
       "      <td>0.00</td>\n",
       "      <td>2</td>\n",
       "      <td>1.0</td>\n",
       "      <td>1.0</td>\n",
       "      <td>15068.83</td>\n",
       "      <td>0</td>\n",
       "    </tr>\n",
       "  </tbody>\n",
       "</table>\n",
       "</div>"
      ],
      "text/plain": [
       "   id  CustomerId         Surname  CreditScore Geography Gender   Age  Tenure  \\\n",
       "0   0    15674932  Okwudilichukwu          668    France   Male  33.0       3   \n",
       "1   1    15749177   Okwudiliolisa          627    France   Male  33.0       1   \n",
       "2   2    15694510           Hsueh          678    France   Male  40.0      10   \n",
       "3   3    15741417             Kao          581    France   Male  34.0       2   \n",
       "4   4    15766172       Chiemenam          716     Spain   Male  33.0       5   \n",
       "\n",
       "     Balance  NumOfProducts  HasCrCard  IsActiveMember  EstimatedSalary  \\\n",
       "0       0.00              2        1.0             0.0        181449.97   \n",
       "1       0.00              2        1.0             1.0         49503.50   \n",
       "2       0.00              2        1.0             0.0        184866.69   \n",
       "3  148882.54              1        1.0             1.0         84560.88   \n",
       "4       0.00              2        1.0             1.0         15068.83   \n",
       "\n",
       "   Exited  \n",
       "0       0  \n",
       "1       0  \n",
       "2       0  \n",
       "3       0  \n",
       "4       0  "
      ]
     },
     "execution_count": 3,
     "metadata": {},
     "output_type": "execute_result"
    }
   ],
   "source": [
    "df_train = pd.read_csv('/kaggle/input/playground-series-s4e1/train.csv')\n",
    "df_train.head()"
   ]
  },
  {
   "cell_type": "markdown",
   "id": "656ff529",
   "metadata": {
    "papermill": {
     "duration": 0.006529,
     "end_time": "2024-01-18T11:36:50.155169",
     "exception": false,
     "start_time": "2024-01-18T11:36:50.148640",
     "status": "completed"
    },
    "tags": []
   },
   "source": [
    "* Read the 'test.csv' file into a DataFrame using pandas\n",
    "* Display the first few rows of the DataFrame"
   ]
  },
  {
   "cell_type": "code",
   "execution_count": 4,
   "id": "541db71e",
   "metadata": {
    "execution": {
     "iopub.execute_input": "2024-01-18T11:36:50.170082Z",
     "iopub.status.busy": "2024-01-18T11:36:50.169684Z",
     "iopub.status.idle": "2024-01-18T11:36:50.400143Z",
     "shell.execute_reply": "2024-01-18T11:36:50.399410Z"
    },
    "papermill": {
     "duration": 0.240214,
     "end_time": "2024-01-18T11:36:50.402022",
     "exception": false,
     "start_time": "2024-01-18T11:36:50.161808",
     "status": "completed"
    },
    "tags": []
   },
   "outputs": [
    {
     "data": {
      "text/html": [
       "<div>\n",
       "<style scoped>\n",
       "    .dataframe tbody tr th:only-of-type {\n",
       "        vertical-align: middle;\n",
       "    }\n",
       "\n",
       "    .dataframe tbody tr th {\n",
       "        vertical-align: top;\n",
       "    }\n",
       "\n",
       "    .dataframe thead th {\n",
       "        text-align: right;\n",
       "    }\n",
       "</style>\n",
       "<table border=\"1\" class=\"dataframe\">\n",
       "  <thead>\n",
       "    <tr style=\"text-align: right;\">\n",
       "      <th></th>\n",
       "      <th>id</th>\n",
       "      <th>CustomerId</th>\n",
       "      <th>Surname</th>\n",
       "      <th>CreditScore</th>\n",
       "      <th>Geography</th>\n",
       "      <th>Gender</th>\n",
       "      <th>Age</th>\n",
       "      <th>Tenure</th>\n",
       "      <th>Balance</th>\n",
       "      <th>NumOfProducts</th>\n",
       "      <th>HasCrCard</th>\n",
       "      <th>IsActiveMember</th>\n",
       "      <th>EstimatedSalary</th>\n",
       "    </tr>\n",
       "  </thead>\n",
       "  <tbody>\n",
       "    <tr>\n",
       "      <th>0</th>\n",
       "      <td>165034</td>\n",
       "      <td>15773898</td>\n",
       "      <td>Lucchese</td>\n",
       "      <td>586</td>\n",
       "      <td>France</td>\n",
       "      <td>Female</td>\n",
       "      <td>23.0</td>\n",
       "      <td>2</td>\n",
       "      <td>0.00</td>\n",
       "      <td>2</td>\n",
       "      <td>0.0</td>\n",
       "      <td>1.0</td>\n",
       "      <td>160976.75</td>\n",
       "    </tr>\n",
       "    <tr>\n",
       "      <th>1</th>\n",
       "      <td>165035</td>\n",
       "      <td>15782418</td>\n",
       "      <td>Nott</td>\n",
       "      <td>683</td>\n",
       "      <td>France</td>\n",
       "      <td>Female</td>\n",
       "      <td>46.0</td>\n",
       "      <td>2</td>\n",
       "      <td>0.00</td>\n",
       "      <td>1</td>\n",
       "      <td>1.0</td>\n",
       "      <td>0.0</td>\n",
       "      <td>72549.27</td>\n",
       "    </tr>\n",
       "    <tr>\n",
       "      <th>2</th>\n",
       "      <td>165036</td>\n",
       "      <td>15807120</td>\n",
       "      <td>K?</td>\n",
       "      <td>656</td>\n",
       "      <td>France</td>\n",
       "      <td>Female</td>\n",
       "      <td>34.0</td>\n",
       "      <td>7</td>\n",
       "      <td>0.00</td>\n",
       "      <td>2</td>\n",
       "      <td>1.0</td>\n",
       "      <td>0.0</td>\n",
       "      <td>138882.09</td>\n",
       "    </tr>\n",
       "    <tr>\n",
       "      <th>3</th>\n",
       "      <td>165037</td>\n",
       "      <td>15808905</td>\n",
       "      <td>O'Donnell</td>\n",
       "      <td>681</td>\n",
       "      <td>France</td>\n",
       "      <td>Male</td>\n",
       "      <td>36.0</td>\n",
       "      <td>8</td>\n",
       "      <td>0.00</td>\n",
       "      <td>1</td>\n",
       "      <td>1.0</td>\n",
       "      <td>0.0</td>\n",
       "      <td>113931.57</td>\n",
       "    </tr>\n",
       "    <tr>\n",
       "      <th>4</th>\n",
       "      <td>165038</td>\n",
       "      <td>15607314</td>\n",
       "      <td>Higgins</td>\n",
       "      <td>752</td>\n",
       "      <td>Germany</td>\n",
       "      <td>Male</td>\n",
       "      <td>38.0</td>\n",
       "      <td>10</td>\n",
       "      <td>121263.62</td>\n",
       "      <td>1</td>\n",
       "      <td>1.0</td>\n",
       "      <td>0.0</td>\n",
       "      <td>139431.00</td>\n",
       "    </tr>\n",
       "  </tbody>\n",
       "</table>\n",
       "</div>"
      ],
      "text/plain": [
       "       id  CustomerId    Surname  CreditScore Geography  Gender   Age  Tenure  \\\n",
       "0  165034    15773898   Lucchese          586    France  Female  23.0       2   \n",
       "1  165035    15782418       Nott          683    France  Female  46.0       2   \n",
       "2  165036    15807120         K?          656    France  Female  34.0       7   \n",
       "3  165037    15808905  O'Donnell          681    France    Male  36.0       8   \n",
       "4  165038    15607314    Higgins          752   Germany    Male  38.0      10   \n",
       "\n",
       "     Balance  NumOfProducts  HasCrCard  IsActiveMember  EstimatedSalary  \n",
       "0       0.00              2        0.0             1.0        160976.75  \n",
       "1       0.00              1        1.0             0.0         72549.27  \n",
       "2       0.00              2        1.0             0.0        138882.09  \n",
       "3       0.00              1        1.0             0.0        113931.57  \n",
       "4  121263.62              1        1.0             0.0        139431.00  "
      ]
     },
     "execution_count": 4,
     "metadata": {},
     "output_type": "execute_result"
    }
   ],
   "source": [
    "df_test = pd.read_csv('/kaggle/input/playground-series-s4e1/test.csv')\n",
    "df_test.head()"
   ]
  },
  {
   "cell_type": "markdown",
   "id": "47899d4d",
   "metadata": {
    "papermill": {
     "duration": 0.006588,
     "end_time": "2024-01-18T11:36:50.415678",
     "exception": false,
     "start_time": "2024-01-18T11:36:50.409090",
     "status": "completed"
    },
    "tags": []
   },
   "source": [
    "# Scaling\n",
    "* Normalize specified columns in the training and test datasets to the range [0, 1].\n"
   ]
  },
  {
   "cell_type": "code",
   "execution_count": 5,
   "id": "0471e789",
   "metadata": {
    "execution": {
     "iopub.execute_input": "2024-01-18T11:36:50.431255Z",
     "iopub.status.busy": "2024-01-18T11:36:50.430581Z",
     "iopub.status.idle": "2024-01-18T11:36:50.452040Z",
     "shell.execute_reply": "2024-01-18T11:36:50.451143Z"
    },
    "papermill": {
     "duration": 0.032026,
     "end_time": "2024-01-18T11:36:50.454538",
     "exception": false,
     "start_time": "2024-01-18T11:36:50.422512",
     "status": "completed"
    },
    "tags": []
   },
   "outputs": [],
   "source": [
    "scale_cols = ['Age', 'CreditScore', 'Balance', 'EstimatedSalary']\n",
    "\n",
    "for c in scale_cols:\n",
    "    min_value = df_train[c].min()\n",
    "    max_value = df_train[c].max()\n",
    "    df_train[c+\"_scaled\"] = (df_train[c] - min_value) / (max_value - min_value)\n",
    "    df_test[c+\"_scaled\"] = (df_test[c] - min_value) / (max_value - min_value)"
   ]
  },
  {
   "cell_type": "markdown",
   "id": "fca4204d",
   "metadata": {
    "papermill": {
     "duration": 0.006856,
     "end_time": "2024-01-18T11:36:50.469217",
     "exception": false,
     "start_time": "2024-01-18T11:36:50.462361",
     "status": "completed"
    },
    "tags": []
   },
   "source": [
    "# TF-IDF Vectorization for surname"
   ]
  },
  {
   "cell_type": "code",
   "execution_count": 6,
   "id": "d93ba35b",
   "metadata": {
    "execution": {
     "iopub.execute_input": "2024-01-18T11:36:50.485592Z",
     "iopub.status.busy": "2024-01-18T11:36:50.485213Z",
     "iopub.status.idle": "2024-01-18T11:36:52.303088Z",
     "shell.execute_reply": "2024-01-18T11:36:52.301970Z"
    },
    "papermill": {
     "duration": 1.828944,
     "end_time": "2024-01-18T11:36:52.305668",
     "exception": false,
     "start_time": "2024-01-18T11:36:50.476724",
     "status": "completed"
    },
    "tags": []
   },
   "outputs": [],
   "source": [
    "# Create a TfidfVectorizer with a maximum of 1000 features\n",
    "vectorizer = TfidfVectorizer(max_features=1000)\n",
    "\n",
    "# Transform the 'Surname' column in the training dataset into TF-IDF features\n",
    "vectors_train = vectorizer.fit_transform(df_train['Surname'])\n",
    "\n",
    "# Transform the 'Surname' column in the test dataset using the same vectorizer\n",
    "vectors_test = vectorizer.transform(df_test['Surname'])\n",
    "\n",
    "# Create a TruncatedSVD (Singular Value Decomposition) object with 3 components\n",
    "svd = TruncatedSVD(3)\n",
    "\n",
    "# Apply TruncatedSVD to reduce the dimensionality of TF-IDF features in the training data\n",
    "x_pca_train = svd.fit_transform(vectors_train)\n",
    "\n",
    "# Apply the same TruncatedSVD transformation to reduce the dimensionality of TF-IDF features in the test data\n",
    "x_pca_test = svd.transform(vectors_test)\n",
    "\n",
    "# Convert to DataFrames\n",
    "tfidf_df_train = pd.DataFrame(x_pca_train)\n",
    "tfidf_df_test = pd.DataFrame(x_pca_test)\n",
    "\n",
    "# Naming columns in the new DataFrames\n",
    "cols = [('Surname' + \"_tfidf_\" + str(f)) for f in tfidf_df_train.columns.to_list()]\n",
    "tfidf_df_train.columns = cols\n",
    "tfidf_df_test.columns = cols\n",
    "    \n",
    "# Reset the index of the DataFrames before concatenation\n",
    "df_train = df_train.reset_index(drop=True)\n",
    "df_test = df_test.reset_index(drop=True)\n",
    "\n",
    "# Concatenate transformed features with original data\n",
    "df_train = pd.concat([df_train, tfidf_df_train], axis=\"columns\")\n",
    "df_test = pd.concat([df_test, tfidf_df_test], axis=\"columns\")"
   ]
  },
  {
   "cell_type": "markdown",
   "id": "e813180a",
   "metadata": {
    "papermill": {
     "duration": 0.006923,
     "end_time": "2024-01-18T11:36:52.320348",
     "exception": false,
     "start_time": "2024-01-18T11:36:52.313425",
     "status": "completed"
    },
    "tags": []
   },
   "source": [
    "# Feature Engineering\n",
    "*  Function to derive additional features from the input DataFrame, including\n",
    "*  senior status, interaction of credit card and active membership, products per tenure,\n",
    "*  surname length, and one-hot encoding of categorical columns."
   ]
  },
  {
   "cell_type": "code",
   "execution_count": 7,
   "id": "8c6cfde2",
   "metadata": {
    "execution": {
     "iopub.execute_input": "2024-01-18T11:36:52.335878Z",
     "iopub.status.busy": "2024-01-18T11:36:52.335512Z",
     "iopub.status.idle": "2024-01-18T11:36:52.342212Z",
     "shell.execute_reply": "2024-01-18T11:36:52.341073Z"
    },
    "papermill": {
     "duration": 0.01685,
     "end_time": "2024-01-18T11:36:52.344217",
     "exception": false,
     "start_time": "2024-01-18T11:36:52.327367",
     "status": "completed"
    },
    "tags": []
   },
   "outputs": [],
   "source": [
    "def getFeats(df):\n",
    "    \n",
    "    df['IsSenior'] = df['Age'].apply(lambda x: 1 if x >= 60 else 0)\n",
    "    df['IsActive_by_CreditCard'] = df['HasCrCard'] * df['IsActiveMember']\n",
    "    df['Products_Per_Tenure'] =  df['Tenure'] / df['NumOfProducts']\n",
    "    df['len_SurName'] = df['Surname'].apply(lambda x: len(x))\n",
    "    df['AgeCat'] = np.round(df.Age/20).astype('int').astype('category')\n",
    "    \n",
    "    cat_cols = ['Geography', 'Gender', 'NumOfProducts','AgeCat']\n",
    "    df=pd.get_dummies(df,columns=cat_cols)\n",
    "    return df"
   ]
  },
  {
   "cell_type": "markdown",
   "id": "b5478b3e",
   "metadata": {
    "papermill": {
     "duration": 0.00664,
     "end_time": "2024-01-18T11:36:52.357859",
     "exception": false,
     "start_time": "2024-01-18T11:36:52.351219",
     "status": "completed"
    },
    "tags": []
   },
   "source": [
    "*  Apply feature engineering using the getFeats function to derive additional features\n",
    "*  and convert selected columns to float type for both training and test datasets."
   ]
  },
  {
   "cell_type": "code",
   "execution_count": 8,
   "id": "f172d26f",
   "metadata": {
    "execution": {
     "iopub.execute_input": "2024-01-18T11:36:52.373460Z",
     "iopub.status.busy": "2024-01-18T11:36:52.372827Z",
     "iopub.status.idle": "2024-01-18T11:36:52.859378Z",
     "shell.execute_reply": "2024-01-18T11:36:52.858010Z"
    },
    "papermill": {
     "duration": 0.496938,
     "end_time": "2024-01-18T11:36:52.861593",
     "exception": false,
     "start_time": "2024-01-18T11:36:52.364655",
     "status": "completed"
    },
    "tags": []
   },
   "outputs": [
    {
     "name": "stdout",
     "output_type": "stream",
     "text": [
      "Index(['Tenure', 'HasCrCard', 'IsActiveMember', 'Age_scaled',\n",
      "       'CreditScore_scaled', 'Balance_scaled', 'EstimatedSalary_scaled',\n",
      "       'Surname_tfidf_0', 'Surname_tfidf_1', 'Surname_tfidf_2', 'IsSenior',\n",
      "       'IsActive_by_CreditCard', 'Products_Per_Tenure', 'len_SurName',\n",
      "       'Geography_France', 'Geography_Germany', 'Geography_Spain',\n",
      "       'Gender_Female', 'Gender_Male', 'NumOfProducts_1', 'NumOfProducts_2',\n",
      "       'NumOfProducts_3', 'NumOfProducts_4', 'AgeCat_1', 'AgeCat_2',\n",
      "       'AgeCat_3', 'AgeCat_4', 'AgeCat_5'],\n",
      "      dtype='object')\n"
     ]
    },
    {
     "data": {
      "text/html": [
       "<div>\n",
       "<style scoped>\n",
       "    .dataframe tbody tr th:only-of-type {\n",
       "        vertical-align: middle;\n",
       "    }\n",
       "\n",
       "    .dataframe tbody tr th {\n",
       "        vertical-align: top;\n",
       "    }\n",
       "\n",
       "    .dataframe thead th {\n",
       "        text-align: right;\n",
       "    }\n",
       "</style>\n",
       "<table border=\"1\" class=\"dataframe\">\n",
       "  <thead>\n",
       "    <tr style=\"text-align: right;\">\n",
       "      <th></th>\n",
       "      <th>id</th>\n",
       "      <th>CustomerId</th>\n",
       "      <th>Surname</th>\n",
       "      <th>CreditScore</th>\n",
       "      <th>Age</th>\n",
       "      <th>Tenure</th>\n",
       "      <th>Balance</th>\n",
       "      <th>HasCrCard</th>\n",
       "      <th>IsActiveMember</th>\n",
       "      <th>EstimatedSalary</th>\n",
       "      <th>...</th>\n",
       "      <th>Gender_Male</th>\n",
       "      <th>NumOfProducts_1</th>\n",
       "      <th>NumOfProducts_2</th>\n",
       "      <th>NumOfProducts_3</th>\n",
       "      <th>NumOfProducts_4</th>\n",
       "      <th>AgeCat_1</th>\n",
       "      <th>AgeCat_2</th>\n",
       "      <th>AgeCat_3</th>\n",
       "      <th>AgeCat_4</th>\n",
       "      <th>AgeCat_5</th>\n",
       "    </tr>\n",
       "  </thead>\n",
       "  <tbody>\n",
       "    <tr>\n",
       "      <th>0</th>\n",
       "      <td>0</td>\n",
       "      <td>15674932</td>\n",
       "      <td>Okwudilichukwu</td>\n",
       "      <td>668</td>\n",
       "      <td>33.0</td>\n",
       "      <td>3.0</td>\n",
       "      <td>0.00</td>\n",
       "      <td>1.0</td>\n",
       "      <td>0.0</td>\n",
       "      <td>181449.97</td>\n",
       "      <td>...</td>\n",
       "      <td>1.0</td>\n",
       "      <td>0.0</td>\n",
       "      <td>1.0</td>\n",
       "      <td>0.0</td>\n",
       "      <td>0.0</td>\n",
       "      <td>0.0</td>\n",
       "      <td>1.0</td>\n",
       "      <td>0.0</td>\n",
       "      <td>0.0</td>\n",
       "      <td>0.0</td>\n",
       "    </tr>\n",
       "    <tr>\n",
       "      <th>1</th>\n",
       "      <td>1</td>\n",
       "      <td>15749177</td>\n",
       "      <td>Okwudiliolisa</td>\n",
       "      <td>627</td>\n",
       "      <td>33.0</td>\n",
       "      <td>1.0</td>\n",
       "      <td>0.00</td>\n",
       "      <td>1.0</td>\n",
       "      <td>1.0</td>\n",
       "      <td>49503.50</td>\n",
       "      <td>...</td>\n",
       "      <td>1.0</td>\n",
       "      <td>0.0</td>\n",
       "      <td>1.0</td>\n",
       "      <td>0.0</td>\n",
       "      <td>0.0</td>\n",
       "      <td>0.0</td>\n",
       "      <td>1.0</td>\n",
       "      <td>0.0</td>\n",
       "      <td>0.0</td>\n",
       "      <td>0.0</td>\n",
       "    </tr>\n",
       "    <tr>\n",
       "      <th>2</th>\n",
       "      <td>2</td>\n",
       "      <td>15694510</td>\n",
       "      <td>Hsueh</td>\n",
       "      <td>678</td>\n",
       "      <td>40.0</td>\n",
       "      <td>10.0</td>\n",
       "      <td>0.00</td>\n",
       "      <td>1.0</td>\n",
       "      <td>0.0</td>\n",
       "      <td>184866.69</td>\n",
       "      <td>...</td>\n",
       "      <td>1.0</td>\n",
       "      <td>0.0</td>\n",
       "      <td>1.0</td>\n",
       "      <td>0.0</td>\n",
       "      <td>0.0</td>\n",
       "      <td>0.0</td>\n",
       "      <td>1.0</td>\n",
       "      <td>0.0</td>\n",
       "      <td>0.0</td>\n",
       "      <td>0.0</td>\n",
       "    </tr>\n",
       "    <tr>\n",
       "      <th>3</th>\n",
       "      <td>3</td>\n",
       "      <td>15741417</td>\n",
       "      <td>Kao</td>\n",
       "      <td>581</td>\n",
       "      <td>34.0</td>\n",
       "      <td>2.0</td>\n",
       "      <td>148882.54</td>\n",
       "      <td>1.0</td>\n",
       "      <td>1.0</td>\n",
       "      <td>84560.88</td>\n",
       "      <td>...</td>\n",
       "      <td>1.0</td>\n",
       "      <td>1.0</td>\n",
       "      <td>0.0</td>\n",
       "      <td>0.0</td>\n",
       "      <td>0.0</td>\n",
       "      <td>0.0</td>\n",
       "      <td>1.0</td>\n",
       "      <td>0.0</td>\n",
       "      <td>0.0</td>\n",
       "      <td>0.0</td>\n",
       "    </tr>\n",
       "    <tr>\n",
       "      <th>4</th>\n",
       "      <td>4</td>\n",
       "      <td>15766172</td>\n",
       "      <td>Chiemenam</td>\n",
       "      <td>716</td>\n",
       "      <td>33.0</td>\n",
       "      <td>5.0</td>\n",
       "      <td>0.00</td>\n",
       "      <td>1.0</td>\n",
       "      <td>1.0</td>\n",
       "      <td>15068.83</td>\n",
       "      <td>...</td>\n",
       "      <td>1.0</td>\n",
       "      <td>0.0</td>\n",
       "      <td>1.0</td>\n",
       "      <td>0.0</td>\n",
       "      <td>0.0</td>\n",
       "      <td>0.0</td>\n",
       "      <td>1.0</td>\n",
       "      <td>0.0</td>\n",
       "      <td>0.0</td>\n",
       "      <td>0.0</td>\n",
       "    </tr>\n",
       "  </tbody>\n",
       "</table>\n",
       "<p>5 rows × 36 columns</p>\n",
       "</div>"
      ],
      "text/plain": [
       "   id  CustomerId         Surname  CreditScore   Age  Tenure    Balance  \\\n",
       "0   0    15674932  Okwudilichukwu          668  33.0     3.0       0.00   \n",
       "1   1    15749177   Okwudiliolisa          627  33.0     1.0       0.00   \n",
       "2   2    15694510           Hsueh          678  40.0    10.0       0.00   \n",
       "3   3    15741417             Kao          581  34.0     2.0  148882.54   \n",
       "4   4    15766172       Chiemenam          716  33.0     5.0       0.00   \n",
       "\n",
       "   HasCrCard  IsActiveMember  EstimatedSalary  ...  Gender_Male  \\\n",
       "0        1.0             0.0        181449.97  ...          1.0   \n",
       "1        1.0             1.0         49503.50  ...          1.0   \n",
       "2        1.0             0.0        184866.69  ...          1.0   \n",
       "3        1.0             1.0         84560.88  ...          1.0   \n",
       "4        1.0             1.0         15068.83  ...          1.0   \n",
       "\n",
       "   NumOfProducts_1  NumOfProducts_2  NumOfProducts_3  NumOfProducts_4  \\\n",
       "0              0.0              1.0              0.0              0.0   \n",
       "1              0.0              1.0              0.0              0.0   \n",
       "2              0.0              1.0              0.0              0.0   \n",
       "3              1.0              0.0              0.0              0.0   \n",
       "4              0.0              1.0              0.0              0.0   \n",
       "\n",
       "   AgeCat_1  AgeCat_2  AgeCat_3  AgeCat_4  AgeCat_5  \n",
       "0       0.0       1.0       0.0       0.0       0.0  \n",
       "1       0.0       1.0       0.0       0.0       0.0  \n",
       "2       0.0       1.0       0.0       0.0       0.0  \n",
       "3       0.0       1.0       0.0       0.0       0.0  \n",
       "4       0.0       1.0       0.0       0.0       0.0  \n",
       "\n",
       "[5 rows x 36 columns]"
      ]
     },
     "execution_count": 8,
     "metadata": {},
     "output_type": "execute_result"
    }
   ],
   "source": [
    "df_train = getFeats(df_train)\n",
    "df_test = getFeats(df_test)\n",
    "\n",
    "feat_cols=df_train.columns.drop(['id', 'CustomerId', 'Surname','Exited'])\n",
    "feat_cols=feat_cols.drop(scale_cols)\n",
    "for c in feat_cols:\n",
    "    df_train[c] = df_train[c].astype('float')\n",
    "    df_test[c] = df_test[c].astype('float')\n",
    "print(feat_cols)\n",
    "df_train.head()"
   ]
  },
  {
   "cell_type": "markdown",
   "id": "1b05db5d",
   "metadata": {
    "papermill": {
     "duration": 0.007235,
     "end_time": "2024-01-18T11:36:52.876446",
     "exception": false,
     "start_time": "2024-01-18T11:36:52.869211",
     "status": "completed"
    },
    "tags": []
   },
   "source": [
    "*  Split the DataFrame into feature matrix X (selected features) and target variable y."
   ]
  },
  {
   "cell_type": "code",
   "execution_count": 9,
   "id": "079289de",
   "metadata": {
    "execution": {
     "iopub.execute_input": "2024-01-18T11:36:52.893222Z",
     "iopub.status.busy": "2024-01-18T11:36:52.892492Z",
     "iopub.status.idle": "2024-01-18T11:36:52.938045Z",
     "shell.execute_reply": "2024-01-18T11:36:52.936615Z"
    },
    "papermill": {
     "duration": 0.057806,
     "end_time": "2024-01-18T11:36:52.941622",
     "exception": false,
     "start_time": "2024-01-18T11:36:52.883816",
     "status": "completed"
    },
    "tags": []
   },
   "outputs": [],
   "source": [
    "X=df_train[feat_cols]\n",
    "y=df_train['Exited']"
   ]
  },
  {
   "cell_type": "markdown",
   "id": "8ba430eb",
   "metadata": {
    "papermill": {
     "duration": 0.011889,
     "end_time": "2024-01-18T11:36:52.965600",
     "exception": false,
     "start_time": "2024-01-18T11:36:52.953711",
     "status": "completed"
    },
    "tags": []
   },
   "source": [
    "# Parameters\n",
    "*  LightGBM hyperparameters for the model, including the number of estimators, maximum depth,\n",
    "*  learning rate, minimum child weight, minimum child samples, subsample rate, subsample frequency,\n",
    "*  random state, column subsample rate, and number of leaves."
   ]
  },
  {
   "cell_type": "code",
   "execution_count": 10,
   "id": "5c3d4b89",
   "metadata": {
    "execution": {
     "iopub.execute_input": "2024-01-18T11:36:52.987796Z",
     "iopub.status.busy": "2024-01-18T11:36:52.986971Z",
     "iopub.status.idle": "2024-01-18T11:36:52.992509Z",
     "shell.execute_reply": "2024-01-18T11:36:52.991739Z"
    },
    "papermill": {
     "duration": 0.016989,
     "end_time": "2024-01-18T11:36:52.994451",
     "exception": false,
     "start_time": "2024-01-18T11:36:52.977462",
     "status": "completed"
    },
    "tags": []
   },
   "outputs": [],
   "source": [
    "lgbParams = {'n_estimators': n_est,\n",
    " 'max_depth': 50,\n",
    " 'learning_rate': 0.03,\n",
    " 'min_child_weight': 0.81,\n",
    " 'min_child_samples': 190,\n",
    " 'subsample': 0.88,\n",
    " 'subsample_freq': 2,\n",
    " 'random_state': RAND_VAL,\n",
    " 'colsample_bytree': 0.62,\n",
    " 'num_leaves': 15}"
   ]
  },
  {
   "cell_type": "markdown",
   "id": "fdffa5e2",
   "metadata": {
    "papermill": {
     "duration": 0.007346,
     "end_time": "2024-01-18T11:36:53.009213",
     "exception": false,
     "start_time": "2024-01-18T11:36:53.001867",
     "status": "completed"
    },
    "tags": []
   },
   "source": [
    "# Feature Importance\n",
    "*  Create a LightGBM classifier with specified hyperparameters and fit it to the training data.\n",
    "*  Plot the feature importance based on gain and display the plot."
   ]
  },
  {
   "cell_type": "code",
   "execution_count": 11,
   "id": "0b2fb21d",
   "metadata": {
    "execution": {
     "iopub.execute_input": "2024-01-18T11:36:53.026138Z",
     "iopub.status.busy": "2024-01-18T11:36:53.025439Z",
     "iopub.status.idle": "2024-01-18T11:38:04.318344Z",
     "shell.execute_reply": "2024-01-18T11:38:04.317071Z"
    },
    "papermill": {
     "duration": 71.307349,
     "end_time": "2024-01-18T11:38:04.324015",
     "exception": false,
     "start_time": "2024-01-18T11:36:53.016666",
     "status": "completed"
    },
    "tags": []
   },
   "outputs": [
    {
     "data": {
      "image/png": "[encoded data removed]",
      "text/plain": [
       "<Figure size 1200x1000 with 1 Axes>"
      ]
     },
     "metadata": {},
     "output_type": "display_data"
    }
   ],
   "source": [
    "LGB=lgb.LGBMClassifier(**lgbParams)\n",
    "LGB.fit(X,y)\n",
    "lgb.plot_importance(LGB, importance_type=\"gain\", figsize=(12,10), title=\"LightGBM Feature Importance (Gain)\")\n",
    "plt.show()"
   ]
  },
  {
   "cell_type": "markdown",
   "id": "fa990b70",
   "metadata": {
    "papermill": {
     "duration": 0.009065,
     "end_time": "2024-01-18T11:38:04.342410",
     "exception": false,
     "start_time": "2024-01-18T11:38:04.333345",
     "status": "completed"
    },
    "tags": []
   },
   "source": [
    "# Training\n",
    "*  Implement Stratified K-Fold cross-validation for LightGBM model with specified hyperparameters.\n",
    "*  Store predicted probabilities for each fold in the test dataset and evaluate AUC for validation sets."
   ]
  },
  {
   "cell_type": "code",
   "execution_count": 12,
   "id": "6ae6a063",
   "metadata": {
    "execution": {
     "iopub.execute_input": "2024-01-18T11:38:04.363774Z",
     "iopub.status.busy": "2024-01-18T11:38:04.362978Z",
     "iopub.status.idle": "2024-01-18T11:40:41.280597Z",
     "shell.execute_reply": "2024-01-18T11:40:41.279798Z"
    },
    "papermill": {
     "duration": 156.931523,
     "end_time": "2024-01-18T11:40:41.283211",
     "exception": false,
     "start_time": "2024-01-18T11:38:04.351688",
     "status": "completed"
    },
    "tags": []
   },
   "outputs": [
    {
     "name": "stdout",
     "output_type": "stream",
     "text": [
      "[200]\tvalid_0's auc: 0.889952\tvalid_0's binary_logloss: 0.320591\n",
      "[400]\tvalid_0's auc: 0.892274\tvalid_0's binary_logloss: 0.316653\n",
      "[600]\tvalid_0's auc: 0.892901\tvalid_0's binary_logloss: 0.315562\n",
      "[800]\tvalid_0's auc: 0.893285\tvalid_0's binary_logloss: 0.314873\n",
      "[1000]\tvalid_0's auc: 0.893453\tvalid_0's binary_logloss: 0.314517\n",
      "[1200]\tvalid_0's auc: 0.893566\tvalid_0's binary_logloss: 0.314254\n",
      "[1400]\tvalid_0's auc: 0.893628\tvalid_0's binary_logloss: 0.314138\n",
      "AUC for fold  0 :  0.8936346439106934\n",
      "----------------\n",
      "[200]\tvalid_0's auc: 0.89017\tvalid_0's binary_logloss: 0.319539\n",
      "[400]\tvalid_0's auc: 0.892616\tvalid_0's binary_logloss: 0.315787\n",
      "[600]\tvalid_0's auc: 0.893429\tvalid_0's binary_logloss: 0.314595\n",
      "[800]\tvalid_0's auc: 0.893962\tvalid_0's binary_logloss: 0.31386\n",
      "[1000]\tvalid_0's auc: 0.894275\tvalid_0's binary_logloss: 0.313384\n",
      "[1200]\tvalid_0's auc: 0.894406\tvalid_0's binary_logloss: 0.313155\n",
      "[1400]\tvalid_0's auc: 0.894597\tvalid_0's binary_logloss: 0.3129\n",
      "[1600]\tvalid_0's auc: 0.894654\tvalid_0's binary_logloss: 0.312787\n",
      "[1800]\tvalid_0's auc: 0.894722\tvalid_0's binary_logloss: 0.312708\n",
      "[2000]\tvalid_0's auc: 0.89479\tvalid_0's binary_logloss: 0.31259\n",
      "AUC for fold  1 :  0.8947954402306639\n",
      "----------------\n",
      "[200]\tvalid_0's auc: 0.891272\tvalid_0's binary_logloss: 0.318278\n",
      "[400]\tvalid_0's auc: 0.894089\tvalid_0's binary_logloss: 0.313868\n",
      "[600]\tvalid_0's auc: 0.895017\tvalid_0's binary_logloss: 0.312399\n",
      "[800]\tvalid_0's auc: 0.895531\tvalid_0's binary_logloss: 0.31168\n",
      "[1000]\tvalid_0's auc: 0.895894\tvalid_0's binary_logloss: 0.31116\n",
      "[1200]\tvalid_0's auc: 0.896069\tvalid_0's binary_logloss: 0.31082\n",
      "[1400]\tvalid_0's auc: 0.896116\tvalid_0's binary_logloss: 0.310727\n",
      "AUC for fold  2 :  0.8961264754163414\n",
      "----------------\n",
      "[200]\tvalid_0's auc: 0.891375\tvalid_0's binary_logloss: 0.318071\n",
      "[400]\tvalid_0's auc: 0.893697\tvalid_0's binary_logloss: 0.314121\n",
      "[600]\tvalid_0's auc: 0.894311\tvalid_0's binary_logloss: 0.313076\n",
      "[800]\tvalid_0's auc: 0.894756\tvalid_0's binary_logloss: 0.312396\n",
      "[1000]\tvalid_0's auc: 0.894913\tvalid_0's binary_logloss: 0.312096\n",
      "[1200]\tvalid_0's auc: 0.895123\tvalid_0's binary_logloss: 0.311789\n",
      "[1400]\tvalid_0's auc: 0.895192\tvalid_0's binary_logloss: 0.31164\n",
      "AUC for fold  3 :  0.8951996320276764\n",
      "----------------\n",
      "[200]\tvalid_0's auc: 0.888439\tvalid_0's binary_logloss: 0.321369\n",
      "[400]\tvalid_0's auc: 0.890904\tvalid_0's binary_logloss: 0.31757\n",
      "[600]\tvalid_0's auc: 0.891547\tvalid_0's binary_logloss: 0.316599\n",
      "[800]\tvalid_0's auc: 0.891905\tvalid_0's binary_logloss: 0.316075\n",
      "[1000]\tvalid_0's auc: 0.892076\tvalid_0's binary_logloss: 0.315796\n",
      "[1200]\tvalid_0's auc: 0.892222\tvalid_0's binary_logloss: 0.315546\n",
      "[1400]\tvalid_0's auc: 0.892341\tvalid_0's binary_logloss: 0.315363\n",
      "AUC for fold  4 :  0.8923528767138\n",
      "----------------\n"
     ]
    }
   ],
   "source": [
    "folds = StratifiedKFold(n_splits=num_folds,random_state=RAND_VAL,shuffle=True)\n",
    "test_preds = np.empty((num_folds, len(df_test)))\n",
    "auc_vals=[]\n",
    "\n",
    "for n_fold, (train_idx, valid_idx) in enumerate(folds.split(X, y)):\n",
    "    \n",
    "    X_train, y_train = X.iloc[train_idx], y.iloc[train_idx]\n",
    "    X_val, y_val = X.iloc[valid_idx], y.iloc[valid_idx]\n",
    "    \n",
    "    LGB=lgb.LGBMClassifier(**lgbParams)\n",
    "    LGB.fit(X_train, y_train,\n",
    "        eval_set=[(X_val, y_val)],\n",
    "        eval_metric='auc',\n",
    "        early_stopping_rounds=100,verbose=200)\n",
    "    \n",
    "    y_pred_val = LGB.predict_proba(X_val[feat_cols])[:,1]\n",
    "    auc_val = roc_auc_score(y_val, y_pred_val)\n",
    "    print(\"AUC for fold \",n_fold,\": \",auc_val)\n",
    "    auc_vals.append(auc_val)\n",
    "    \n",
    "    y_pred_test = LGB.predict_proba(df_test[feat_cols])[:,1]\n",
    "    test_preds[n_fold, :] = y_pred_test\n",
    "    print(\"----------------\")"
   ]
  },
  {
   "cell_type": "markdown",
   "id": "cf6b1af6",
   "metadata": {
    "papermill": {
     "duration": 0.012465,
     "end_time": "2024-01-18T11:40:41.369680",
     "exception": false,
     "start_time": "2024-01-18T11:40:41.357215",
     "status": "completed"
    },
    "tags": []
   },
   "source": [
    "# Evaluation\n",
    "* Calculate and print the mean AUC (Area Under the ROC Curve) from cross-validation results."
   ]
  },
  {
   "cell_type": "code",
   "execution_count": 13,
   "id": "5f72249e",
   "metadata": {
    "execution": {
     "iopub.execute_input": "2024-01-18T11:40:41.396835Z",
     "iopub.status.busy": "2024-01-18T11:40:41.396248Z",
     "iopub.status.idle": "2024-01-18T11:40:41.401599Z",
     "shell.execute_reply": "2024-01-18T11:40:41.400882Z"
    },
    "papermill": {
     "duration": 0.021146,
     "end_time": "2024-01-18T11:40:41.403391",
     "exception": false,
     "start_time": "2024-01-18T11:40:41.382245",
     "status": "completed"
    },
    "tags": []
   },
   "outputs": [
    {
     "data": {
      "text/plain": [
       "('Mean AUC: ', 0.894421813659835)"
      ]
     },
     "execution_count": 13,
     "metadata": {},
     "output_type": "execute_result"
    }
   ],
   "source": [
    "\"Mean AUC: \",np.mean(auc_vals)"
   ]
  },
  {
   "cell_type": "markdown",
   "id": "e6d2a2df",
   "metadata": {
    "papermill": {
     "duration": 0.012291,
     "end_time": "2024-01-18T11:40:41.428341",
     "exception": false,
     "start_time": "2024-01-18T11:40:41.416050",
     "status": "completed"
    },
    "tags": []
   },
   "source": [
    "# Prediction and Submission\n",
    "*  Calculate the mean of predictions across folds for final predictions.\n",
    "*  Create a submission DataFrame with 'id' and corresponding predicted 'Exited' probabilities.\n",
    "*  Display the first few rows of the submission DataFrame."
   ]
  },
  {
   "cell_type": "code",
   "execution_count": 14,
   "id": "3b9d11ff",
   "metadata": {
    "execution": {
     "iopub.execute_input": "2024-01-18T11:40:41.456279Z",
     "iopub.status.busy": "2024-01-18T11:40:41.455613Z",
     "iopub.status.idle": "2024-01-18T11:40:41.467797Z",
     "shell.execute_reply": "2024-01-18T11:40:41.467046Z"
    },
    "papermill": {
     "duration": 0.02879,
     "end_time": "2024-01-18T11:40:41.469700",
     "exception": false,
     "start_time": "2024-01-18T11:40:41.440910",
     "status": "completed"
    },
    "tags": []
   },
   "outputs": [
    {
     "data": {
      "text/html": [
       "<div>\n",
       "<style scoped>\n",
       "    .dataframe tbody tr th:only-of-type {\n",
       "        vertical-align: middle;\n",
       "    }\n",
       "\n",
       "    .dataframe tbody tr th {\n",
       "        vertical-align: top;\n",
       "    }\n",
       "\n",
       "    .dataframe thead th {\n",
       "        text-align: right;\n",
       "    }\n",
       "</style>\n",
       "<table border=\"1\" class=\"dataframe\">\n",
       "  <thead>\n",
       "    <tr style=\"text-align: right;\">\n",
       "      <th></th>\n",
       "      <th>id</th>\n",
       "      <th>Exited</th>\n",
       "    </tr>\n",
       "  </thead>\n",
       "  <tbody>\n",
       "    <tr>\n",
       "      <th>0</th>\n",
       "      <td>165034</td>\n",
       "      <td>0.018304</td>\n",
       "    </tr>\n",
       "    <tr>\n",
       "      <th>1</th>\n",
       "      <td>165035</td>\n",
       "      <td>0.720601</td>\n",
       "    </tr>\n",
       "    <tr>\n",
       "      <th>2</th>\n",
       "      <td>165036</td>\n",
       "      <td>0.030218</td>\n",
       "    </tr>\n",
       "    <tr>\n",
       "      <th>3</th>\n",
       "      <td>165037</td>\n",
       "      <td>0.230760</td>\n",
       "    </tr>\n",
       "    <tr>\n",
       "      <th>4</th>\n",
       "      <td>165038</td>\n",
       "      <td>0.375182</td>\n",
       "    </tr>\n",
       "  </tbody>\n",
       "</table>\n",
       "</div>"
      ],
      "text/plain": [
       "       id    Exited\n",
       "0  165034  0.018304\n",
       "1  165035  0.720601\n",
       "2  165036  0.030218\n",
       "3  165037  0.230760\n",
       "4  165038  0.375182"
      ]
     },
     "execution_count": 14,
     "metadata": {},
     "output_type": "execute_result"
    }
   ],
   "source": [
    "y_pred = test_preds.mean(axis=0)\n",
    "df_sub = df_test[['id']]\n",
    "df_sub['Exited'] = y_pred\n",
    "df_sub.head()"
   ]
  },
  {
   "cell_type": "code",
   "execution_count": 15,
   "id": "a7033414",
   "metadata": {
    "execution": {
     "iopub.execute_input": "2024-01-18T11:40:41.497619Z",
     "iopub.status.busy": "2024-01-18T11:40:41.496999Z",
     "iopub.status.idle": "2024-01-18T11:40:41.804878Z",
     "shell.execute_reply": "2024-01-18T11:40:41.804095Z"
    },
    "papermill": {
     "duration": 0.324406,
     "end_time": "2024-01-18T11:40:41.807248",
     "exception": false,
     "start_time": "2024-01-18T11:40:41.482842",
     "status": "completed"
    },
    "tags": []
   },
   "outputs": [],
   "source": [
    "df_sub.to_csv(\"submission.csv\",index=False)"
   ]
  },
  {
   "cell_type": "code",
   "execution_count": 16,
   "id": "5cd4ea84",
   "metadata": {
    "execution": {
     "iopub.execute_input": "2024-01-18T11:40:41.837579Z",
     "iopub.status.busy": "2024-01-18T11:40:41.836918Z",
     "iopub.status.idle": "2024-01-18T11:40:42.121246Z",
     "shell.execute_reply": "2024-01-18T11:40:42.120391Z"
    },
    "papermill": {
     "duration": 0.302911,
     "end_time": "2024-01-18T11:40:42.123485",
     "exception": false,
     "start_time": "2024-01-18T11:40:41.820574",
     "status": "completed"
    },
    "tags": []
   },
   "outputs": [
    {
     "data": {
      "image/png": "[encoded data removed]",
      "text/plain": [
       "<Figure size 1200x600 with 1 Axes>"
      ]
     },
     "metadata": {},
     "output_type": "display_data"
    }
   ],
   "source": [
    "df_sub.hist(column='Exited', bins=20, range=[0,1],figsize=(12,6))\n",
    "plt.show()"
   ]
  },
  {
   "cell_type": "markdown",
   "id": "8969571c",
   "metadata": {
    "papermill": {
     "duration": 0.013671,
     "end_time": "2024-01-18T11:40:42.150669",
     "exception": false,
     "start_time": "2024-01-18T11:40:42.136998",
     "status": "completed"
    },
    "tags": []
   },
   "source": [
    "@Credit: https://www.kaggle.com/code/aspillai/bank-churn-dataset-classification-lightgbm/notebook"
   ]
  }
 ],
 "metadata": {
  "kaggle": {
   "accelerator": "none",
   "dataSources": [
    {
     "databundleVersionId": 7405009,
     "sourceId": 65711,
     "sourceType": "competition"
    }
   ],
   "dockerImageVersionId": 30635,
   "isGpuEnabled": false,
   "isInternetEnabled": true,
   "language": "python",
   "sourceType": "notebook"
  },
  "kernelspec": {
   "display_name": "Python 3",
   "language": "python",
   "name": "python3"
  },
  "language_info": {
   "codemirror_mode": {
    "name": "ipython",
    "version": 3
   },
   "file_extension": ".py",
   "mimetype": "text/x-python",
   "name": "python",
   "nbconvert_exporter": "python",
   "pygments_lexer": "ipython3",
   "version": "3.10.12"
  },
  "papermill": {
   "default_parameters": {},
   "duration": 239.164047,
   "end_time": "2024-01-18T11:40:42.885501",
   "environment_variables": {},
   "exception": null,
   "input_path": "__notebook__.ipynb",
   "output_path": "__notebook__.ipynb",
   "parameters": {},
   "start_time": "2024-01-18T11:36:43.721454",
   "version": "2.4.0"
  }
 },
 "nbformat": 4,
 "nbformat_minor": 5
}
